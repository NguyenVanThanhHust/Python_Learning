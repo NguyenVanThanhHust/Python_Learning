{
  "nbformat": 4,
  "nbformat_minor": 0,
  "metadata": {
    "colab": {
      "name": "Optimization with Cython- Ising Models.ipynb",
      "provenance": [],
      "collapsed_sections": []
    },
    "kernelspec": {
      "name": "python3",
      "display_name": "Python 3"
    }
  },
  "cells": [
    {
      "cell_type": "code",
      "metadata": {
        "id": "l0VYAAmmd_Q3",
        "colab_type": "code",
        "colab": {}
      },
      "source": [
        ""
      ],
      "execution_count": 0,
      "outputs": []
    },
    {
      "cell_type": "markdown",
      "metadata": {
        "id": "6v-RuY6-oCXs",
        "colab_type": "text"
      },
      "source": [
        "1. Code a simulated Ising model"
      ]
    },
    {
      "cell_type": "code",
      "metadata": {
        "id": "_LIhBqN8t8GK",
        "colab_type": "code",
        "colab": {
          "base_uri": "https://localhost:8080/",
          "height": 187
        },
        "outputId": "e09b1b16-8b36-4ed2-d6e4-83c95a9a57e6"
      },
      "source": [
        "import numpy as np\n",
        "\n",
        "def random_spin_field(N, M):\n",
        "  return np.random.choice([-1, 1], size = [N, M])\n",
        "\n",
        "random_spin_field(10,10)"
      ],
      "execution_count": 2,
      "outputs": [
        {
          "output_type": "execute_result",
          "data": {
            "text/plain": [
              "array([[ 1, -1, -1, -1,  1,  1, -1, -1,  1, -1],\n",
              "       [ 1,  1,  1,  1, -1, -1, -1,  1, -1,  1],\n",
              "       [ 1, -1, -1, -1,  1, -1,  1, -1, -1, -1],\n",
              "       [ 1,  1,  1,  1,  1, -1, -1,  1, -1,  1],\n",
              "       [ 1,  1,  1,  1, -1,  1,  1, -1,  1, -1],\n",
              "       [-1, -1, -1,  1,  1,  1,  1,  1,  1,  1],\n",
              "       [-1, -1, -1,  1, -1, -1, -1,  1, -1,  1],\n",
              "       [-1,  1,  1, -1, -1,  1, -1,  1,  1,  1],\n",
              "       [-1,  1,  1, -1,  1,  1, -1,  1,  1, -1],\n",
              "       [ 1, -1, -1, -1,  1,  1,  1, -1,  1, -1]])"
            ]
          },
          "metadata": {
            "tags": []
          },
          "execution_count": 2
        }
      ]
    },
    {
      "cell_type": "code",
      "metadata": {
        "id": "iqV-7iFkuN5N",
        "colab_type": "code",
        "colab": {
          "base_uri": "https://localhost:8080/",
          "height": 117
        },
        "outputId": "7061e48b-81b1-4144-9304-cc70407a204f"
      },
      "source": [
        "from PIL import Image\n",
        "\n",
        "def display_spin_field(field):\n",
        "  return Image.fromarray(np.uint8((field + 1) * 0.5 *255))\n",
        "\n",
        "display_spin_field(random_spin_field(100, 100))"
      ],
      "execution_count": 3,
      "outputs": [
        {
          "output_type": "execute_result",
          "data": {
            "image/png": "[encoded data removed]",
            "text/plain": [
              "<PIL.Image.Image image mode=L size=100x100 at 0x7F51B1CB6518>"
            ]
          },
          "metadata": {
            "tags": []
          },
          "execution_count": 3
        }
      ]
    },
    {
      "cell_type": "code",
      "metadata": {
        "id": "Zr1X7eMzut-Z",
        "colab_type": "code",
        "colab": {}
      },
      "source": [
        "## Ising model\n",
        "def ising_step(field, beta = 0.4):\n",
        "  N, M = field.shape\n",
        "  for n in range(N):\n",
        "    for m in range(M):\n",
        "      _ising_update(field, n, m, beta)\n",
        "  return field\n",
        "\n",
        "def _ising_update(field, n, m, beta):\n",
        "  # loop from all neighboring spin\n",
        "  total = 0\n",
        "  N, M = field.shape\n",
        "  for i in range(n-1, n+2):\n",
        "    for j in range(m-1, m+2):\n",
        "      if i == n and j == m:\n",
        "        continue\n",
        "      total += field[i % N,j % M]\n",
        "  dE = 2 * field[n, m] * total\n",
        "  if dE <= 0:\n",
        "    field[n,m] += -1\n",
        "  elif np.exp(-dE * beta) > np.random.rand():\n",
        "    field[n,m] += -1"
      ],
      "execution_count": 0,
      "outputs": []
    },
    {
      "cell_type": "code",
      "metadata": {
        "id": "azVGcephxJDm",
        "colab_type": "code",
        "colab": {
          "base_uri": "https://localhost:8080/",
          "height": 217
        },
        "outputId": "600d622a-aef5-45d2-c7e9-860dde57cfba"
      },
      "source": [
        "display_spin_field(ising_step(random_spin_field(200, 200)))"
      ],
      "execution_count": 7,
      "outputs": [
        {
          "output_type": "execute_result",
          "data": {
            "image/png": "[encoded data removed]",
            "text/plain": [
              "<PIL.Image.Image image mode=L size=200x200 at 0x7F51B1A47780>"
            ]
          },
          "metadata": {
            "tags": []
          },
          "execution_count": 7
        }
      ]
    },
    {
      "cell_type": "code",
      "metadata": {
        "id": "_8b1PlbexPl2",
        "colab_type": "code",
        "colab": {}
      },
      "source": [
        "## Animate Sequence with ipywidgets\n",
        "from ipywidgets import interact\n",
        "\n",
        "def display_ising_sequence(images):\n",
        "  def _show(frame = (0, len(images) - 1)):\n",
        "    return display_spin_field(images[frame])\n",
        "  return interact(_show)"
      ],
      "execution_count": 0,
      "outputs": []
    },
    {
      "cell_type": "code",
      "metadata": {
        "id": "NyCEG2Ymx_56",
        "colab_type": "code",
        "colab": {
          "base_uri": "https://localhost:8080/",
          "height": 34
        },
        "outputId": "e43904b9-ef55-46bd-a181-efdb8bd78676"
      },
      "source": [
        "images = [random_spin_field(200, 200)]\n",
        "\n",
        "for i in range(50):\n",
        "  images.append(ising_step(images[-1].copy()))\n",
        "\n",
        "display_ising_sequence(images)"
      ],
      "execution_count": 11,
      "outputs": [
        {
          "output_type": "display_data",
          "data": {
            "application/vnd.jupyter.widget-view+json": {
              "model_id": "18817979acc24d68b729edf655fa28df",
              "version_minor": 0,
              "version_major": 2
            },
            "text/plain": [
              "interactive(children=(IntSlider(value=25, description='frame', max=50), Output()), _dom_classes=('widget-inter…"
            ]
          },
          "metadata": {
            "tags": []
          }
        },
        {
          "output_type": "execute_result",
          "data": {
            "text/plain": [
              "<function __main__.display_ising_sequence.<locals>._show>"
            ]
          },
          "metadata": {
            "tags": []
          },
          "execution_count": 11
        }
      ]
    },
    {
      "cell_type": "code",
      "metadata": {
        "id": "Zujt6i783Ozu",
        "colab_type": "code",
        "colab": {}
      },
      "source": [
        "%load_ext Cython"
      ],
      "execution_count": 0,
      "outputs": []
    },
    {
      "cell_type": "code",
      "metadata": {
        "id": "MrbZQMpHycjB",
        "colab_type": "code",
        "colab": {}
      },
      "source": [
        "%%cython\n",
        "import numpy as np\n",
        "\n",
        "def cy_ising_step(field, beta = 0.4):\n",
        "  N, M = field.shape\n",
        "  for n in range(N):\n",
        "    for m in range(M):\n",
        "      _cy_ising_update(field, n, m, beta)\n",
        "  return field\n",
        "\n",
        "def _cy_ising_update(field, n, m, beta):\n",
        "  # loop from all neighboring spin\n",
        "  total = 0\n",
        "  N, M = field.shape\n",
        "  for i in range(n-1, n+2):\n",
        "    for j in range(m-1, m+2):\n",
        "      if i == n and j == m:\n",
        "        continue\n",
        "      total += field[i % N,j % M]\n",
        "  dE = 2 * field[n, m] * total\n",
        "  if dE <= 0:\n",
        "    field[n,m] += -1\n",
        "  elif np.exp(-dE * beta) > np.random.rand():\n",
        "    field[n,m] += -1"
      ],
      "execution_count": 0,
      "outputs": []
    },
    {
      "cell_type": "code",
      "metadata": {
        "id": "uBhbKnJi3g_h",
        "colab_type": "code",
        "colab": {
          "base_uri": "https://localhost:8080/",
          "height": 51
        },
        "outputId": "fc923a00-3ba7-4e31-8550-4fff7d1c74fa"
      },
      "source": [
        "field = random_spin_field(200, 200)\n",
        "%timeit ising_step(field)\n",
        "%timeit cy_ising_step(field)"
      ],
      "execution_count": 16,
      "outputs": [
        {
          "output_type": "stream",
          "text": [
            "1 loop, best of 3: 337 ms per loop\n",
            "1 loop, best of 3: 398 ms per loop\n"
          ],
          "name": "stdout"
        }
      ]
    },
    {
      "cell_type": "code",
      "metadata": {
        "id": "puMLvYIM31NH",
        "colab_type": "code",
        "colab": {}
      },
      "source": [
        ""
      ],
      "execution_count": 0,
      "outputs": []
    }
  ]
}